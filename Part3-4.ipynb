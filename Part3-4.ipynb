{
 "cells": [
  {
   "cell_type": "code",
   "execution_count": 1,
   "id": "27d7b0da",
   "metadata": {},
   "outputs": [
    {
     "name": "stderr",
     "output_type": "stream",
     "text": [
      "2023-02-08 18:48:44.165457: I tensorflow/core/platform/cpu_feature_guard.cc:193] This TensorFlow binary is optimized with oneAPI Deep Neural Network Library (oneDNN) to use the following CPU instructions in performance-critical operations:  SSE4.1 SSE4.2\n",
      "To enable them in other operations, rebuild TensorFlow with the appropriate compiler flags.\n",
      "/var/folders/jg/lkqyq8zj1cxg49bgvkxt3l2w0000gn/T/ipykernel_29217/1559922479.py:10: MatplotlibDeprecationWarning: The seaborn styles shipped by Matplotlib are deprecated since 3.6, as they no longer correspond to the styles shipped by seaborn. However, they will remain available as 'seaborn-v0_8-<style>'. Alternatively, directly use the seaborn API instead.\n",
      "  plt.style.use('seaborn-whitegrid')\n"
     ]
    }
   ],
   "source": [
    "import tensorflow as tf\n",
    "import numpy as np\n",
    "import torch\n",
    "import torchvision as tv\n",
    "from torchvision import transforms, datasets\n",
    "import torch.nn as nn\n",
    "import torch.nn.functional as F\n",
    "import torch.optim as optim\n",
    "import matplotlib.pyplot as plt\n",
    "plt.style.use('seaborn-whitegrid')"
   ]
  },
  {
   "cell_type": "code",
   "execution_count": 2,
   "id": "e264a77c",
   "metadata": {},
   "outputs": [],
   "source": [
    "# Grab MNIST dataset\n",
    "trainingSet = datasets.MNIST('', train=True, download=False, transform=transforms.Compose([transforms.ToTensor()]))\n",
    "testingSet = datasets.MNIST('', train=False, download=False, transform=transforms.Compose([transforms.ToTensor()]))\n",
    "train = torch.utils.data.DataLoader(trainingSet, batch_size=25, shuffle=True)\n",
    "test = torch.utils.data.DataLoader(testingSet, batch_size=25, shuffle=True)"
   ]
  },
  {
   "cell_type": "code",
   "execution_count": 3,
   "id": "8b93b8e5",
   "metadata": {},
   "outputs": [],
   "source": [
    "# Calculate the number of parameters in a neural network\n",
    "def calcParams(inputModel):\n",
    "    val = sum(params.numel() for params in inputModel.parameters() if params.requires_grad)\n",
    "    return val"
   ]
  },
  {
   "cell_type": "code",
   "execution_count": 4,
   "id": "b0f0dff6",
   "metadata": {},
   "outputs": [],
   "source": [
    "# Set different batch sizes for each of the 5 different models\n",
    "# batchSizes = [ 25, 125]\n",
    "# train1 = torch.utils.data.DataLoader(trainingSet, batch_size=batchSizes[0], shuffle=True)\n",
    "# test1 = torch.utils.data.DataLoader(testingSet, batch_size=batchSizes[0], shuffle=True)\n",
    "# train2 = torch.utils.data.DataLoader(trainingSet, batch_size=batchSizes[1], shuffle=True)\n",
    "# test2 = torch.utils.data.DataLoader(testingSet, batch_size=batchSizes[1], shuffle=True)"
   ]
  },
  {
   "cell_type": "code",
   "execution_count": 5,
   "id": "456bac7b",
   "metadata": {},
   "outputs": [],
   "source": [
    "# Model Declarations\n",
    "# Model 1 - 2 Hidden layer / 1645 Parameters\n",
    "# 0\n",
    "#         self.fc3 = nn.Linear(5, 5)\n",
    "#         self.fc4 = nn.Linear(5,10)\n",
    "\n",
    "#     def forward(self, val):\n",
    "#         val = F.relu(self.fc1(val))\n",
    "#         #val = self.fc2(val)\n",
    "#         val = F.relu(self.fc2(val))\n",
    "#         #val = self.fc3(val)\n",
    "#         val = F.relu(self.fc3(val))\n",
    "#         val = self.fc4(val)\n",
    "#         return val\n",
    "    \n",
    "# # Model 1 - 2 Hidden layer / 1645 Parameters    \n",
    "# class Model3 (nn.Module):\n",
    "#     def __init__(self):\n",
    "#         super().__init__()\n",
    "#         self.fc1 = nn.Linear(784, 2)\n",
    "#         #self.fc2 = nn.Linear(2, 10)\n",
    "#         self.fc2 = nn.Linear(2, 5)\n",
    "#         self.fc3 = nn.Linear(5, 5)\n",
    "#         self.fc4 = nn.Linear(5,10)\n",
    "\n",
    "#     def forward(self, val):\n",
    "#         val = F.relu(self.fc1(val))\n",
    "#         #val = self.fc2(val)\n",
    "#         val = F.relu(self.fc2(val))\n",
    "#         #val = self.fc3(val)\n",
    "#         val = F.relu(self.fc3(val))\n",
    "#         val = self.fc4(val)\n",
    "#         return val"
   ]
  },
  {
   "cell_type": "code",
   "execution_count": 6,
   "id": "0a99a014",
   "metadata": {},
   "outputs": [],
   "source": [
    "class Model1 (nn.Module):\n",
    "    def __init__(self):\n",
    "        super().__init__()\n",
    "        self.fc1 = nn.Linear(784, 30)\n",
    "        self.fc2 = nn.Linear(30, 10)\n",
    "\n",
    "    def forward(self, val):\n",
    "        val = F.relu(self.fc1(val))\n",
    "        val = self.fc2(val)\n",
    "        return val\n",
    "\n",
    "class Model2 (nn.Module):\n",
    "    def __init__(self):\n",
    "        super().__init__()\n",
    "        self.fc1 = nn.Linear(784, 30)\n",
    "        self.fc2 = nn.Linear(30, 10)\n",
    "\n",
    "    def forward(self, val):\n",
    "        val = F.relu(self.fc1(val))\n",
    "        val = self.fc2(val)\n",
    "        return val\n",
    "\n",
    "class Model3 (nn.Module):\n",
    "    def __init__(self):\n",
    "        super().__init__()\n",
    "        self.fc1 = nn.Linear(784, 30)\n",
    "        self.fc2 = nn.Linear(30, 10)\n",
    "\n",
    "    def forward(self, val):\n",
    "        val = F.relu(self.fc1(val))\n",
    "        val = self.fc2(val)\n",
    "        return val"
   ]
  },
  {
   "cell_type": "code",
   "execution_count": 7,
   "id": "28bd180b",
   "metadata": {},
   "outputs": [],
   "source": [
    "# Set up necessary auxilaries for neural net training\n",
    "model1 = Model1()\n",
    "model2 = Model2()\n",
    "model3 = Model3()\n",
    "costFunc = nn.CrossEntropyLoss()\n",
    "model1Opt = optim.Adam(model1.parameters(), lr=0.001)\n",
    "model2Opt = optim.Adam(model2.parameters(), lr=0.01)\n",
    "model3Opt = optim.Adam(model3.parameters(), lr=0.1)"
   ]
  },
  {
   "cell_type": "code",
   "execution_count": 8,
   "id": "14cd7ed7",
   "metadata": {},
   "outputs": [
    {
     "name": "stdout",
     "output_type": "stream",
     "text": [
      "0\n",
      "1\n",
      "2\n",
      "3\n",
      "4\n",
      "5\n",
      "6\n",
      "7\n",
      "8\n",
      "9\n"
     ]
    }
   ],
   "source": [
    "# Train all 3 models using different batch sizes\n",
    "EPOCHS = 10\n",
    "for index in range(EPOCHS):\n",
    "    # Print index to show progress of training during computation\n",
    "    print(index)\n",
    "    \n",
    "    # Model 1\n",
    "    for batch in train:\n",
    "        inputImages, groundTruth = batch\n",
    "        model1.zero_grad()\n",
    "        output = model1(inputImages.view(-1,784))\n",
    "        cost = costFunc(output, groundTruth)\n",
    "        cost.backward()\n",
    "        model1Opt.step()\n",
    "\n",
    "    # Model 2\n",
    "    for batch in train:\n",
    "        inputImages, groundTruth = batch\n",
    "        model2.zero_grad()\n",
    "        output = model2(inputImages.view(-1,784))\n",
    "        cost = costFunc(output, groundTruth)\n",
    "        cost.backward()\n",
    "        model2Opt.step()\n",
    "        \n",
    "#     for batch in train:\n",
    "#         inputImages, groundTruth = batch\n",
    "#         model3.zero_grad()\n",
    "#         output = model3(inputImages.view(-1,784))\n",
    "#         cost = costFunc(output, groundTruth)\n",
    "#         cost.backward()\n",
    "#         model3Opt.step()"
   ]
  },
  {
   "cell_type": "code",
   "execution_count": 9,
   "id": "3e69ac75",
   "metadata": {},
   "outputs": [],
   "source": [
    "# Calculating loss for each value of alpha....\n",
    "from torch.nn.utils import (\n",
    "  parameters_to_vector as Params2Vec,\n",
    "  vector_to_parameters as Vec2Params\n",
    ")\n",
    "mod1 = Params2Vec(model1.parameters())\n",
    "mod2 = Params2Vec(model2.parameters())\n",
    "\n",
    "#alpha = [-1,-0.5,0,0.5,1.0,1.5,2.0]\n",
    "alpha = np.arange(-1.0, 2.0 , 0.15)\n",
    "cost3_train = []\n",
    "cost3_alpha_train = []\n",
    "cost3_test = []\n",
    "accuracy3_alpha_train = []\n",
    "\n",
    "for a in alpha:\n",
    "    mod3 = (1 - a)*mod1 + a * mod2\n",
    "    Vec2Params(mod3,model3.parameters())\n",
    "    total = 0\n",
    "    correct = 0\n",
    "    costTotal = 0\n",
    "    costCounter = 0\n",
    "    with torch.no_grad():\n",
    "        for batch in train:\n",
    "            inputImages, groundTruth = batch\n",
    "            #model3.zero_grad()\n",
    "            output = model3(inputImages.view(-1,784))\n",
    "            cost = costFunc(output, groundTruth)\n",
    "            costTotal += cost\n",
    "            costCounter += 1\n",
    "            for i, outputTensor in enumerate(output):\n",
    "                if torch.argmax(outputTensor) == groundTruth[i]:\n",
    "                    correct += 1\n",
    "                total += 1\n",
    "        cost3_alpha_train.append(costTotal / costCounter)\n",
    "        accuracy3_alpha_train.append(round(correct/total, 3))\n"
   ]
  },
  {
   "cell_type": "code",
   "execution_count": 10,
   "id": "5866ac13",
   "metadata": {},
   "outputs": [],
   "source": [
    "accuracy3_alpha_test = []\n",
    "cost3_alpha_test = []\n",
    "for a in alpha :\n",
    "    mod3 = (1 - a)*mod1 + a * mod2\n",
    "    Vec2Params(mod3,model3.parameters())\n",
    "    total = 0\n",
    "    correct = 0\n",
    "    costTotal = 0\n",
    "    costCounter = 0\n",
    "    with torch.no_grad():\n",
    "        for batch in test:\n",
    "            inputImages, groundTruth = batch\n",
    "            output = model3(inputImages.view(-1,784))\n",
    "            cost = costFunc(output, groundTruth)\n",
    "            costTotal += cost\n",
    "            costCounter += 1\n",
    "            for i, outputTensor in enumerate(output):\n",
    "                if torch.argmax(outputTensor) == groundTruth[i]:\n",
    "                    correct += 1\n",
    "                total += 1\n",
    "        cost3_alpha_test.append(costTotal / costCounter)\n",
    "        accuracy3_alpha_test.append(round(correct/total, 3))"
   ]
  },
  {
   "cell_type": "code",
   "execution_count": 11,
   "id": "82f6d97b",
   "metadata": {},
   "outputs": [
    {
     "data": {
      "text/plain": [
       "[tensor(108.9575),\n",
       " tensor(77.3764),\n",
       " tensor(50.9629),\n",
       " tensor(29.8017),\n",
       " tensor(14.0496),\n",
       " tensor(4.1002),\n",
       " tensor(0.3451),\n",
       " tensor(0.1046),\n",
       " tensor(1.0055),\n",
       " tensor(1.6823),\n",
       " tensor(1.7970),\n",
       " tensor(1.3401),\n",
       " tensor(0.5404),\n",
       " tensor(0.1657),\n",
       " tensor(0.2171),\n",
       " tensor(0.6659),\n",
       " tensor(1.8332),\n",
       " tensor(3.9874),\n",
       " tensor(7.2239),\n",
       " tensor(11.4475)]"
      ]
     },
     "execution_count": 11,
     "metadata": {},
     "output_type": "execute_result"
    }
   ],
   "source": [
    "(cost3_alpha_train)"
   ]
  },
  {
   "cell_type": "code",
   "execution_count": 12,
   "id": "9c52241c",
   "metadata": {},
   "outputs": [
    {
     "data": {
      "text/plain": [
       "[0.315,\n",
       " 0.335,\n",
       " 0.366,\n",
       " 0.416,\n",
       " 0.504,\n",
       " 0.67,\n",
       " 0.911,\n",
       " 0.967,\n",
       " 0.736,\n",
       " 0.657,\n",
       " 0.653,\n",
       " 0.689,\n",
       " 0.826,\n",
       " 0.951,\n",
       " 0.943,\n",
       " 0.883,\n",
       " 0.795,\n",
       " 0.681,\n",
       " 0.599,\n",
       " 0.552]"
      ]
     },
     "execution_count": 12,
     "metadata": {},
     "output_type": "execute_result"
    }
   ],
   "source": [
    "accuracy3_alpha_train"
   ]
  },
  {
   "cell_type": "code",
   "execution_count": 13,
   "id": "37b52a19",
   "metadata": {},
   "outputs": [
    {
     "data": {
      "image/png": "[encoded data removed]",
      "text/plain": [
       "<Figure size 640x480 with 2 Axes>"
      ]
     },
     "metadata": {},
     "output_type": "display_data"
    }
   ],
   "source": [
    "import math\n",
    "from math import log\n",
    "cost3_alpha_train = [math.log10(i) for i in cost3_alpha_train]\n",
    "cost3_alpha_test = [math.log10(i) for i in cost3_alpha_test]\n",
    "#plt.plot(alpha, cost3_alpha_train, 'r', label='Model')\n",
    "fig,ax = plt.subplots()\n",
    "ax.plot(alpha,\n",
    "        cost3_alpha_train,\n",
    "        color=\"red\")\n",
    "ax.plot(alpha, cost3_alpha_test, color = \"r\", linestyle='dashed')\n",
    "# set x-axis label\n",
    "ax.set_xlabel(\"alpha\", fontsize = 14)\n",
    "# set y-axis label\n",
    "ax.set_ylabel(\"Cros Entropy Cost\",\n",
    "              color=\"red\",\n",
    "              fontsize=14)\n",
    "# twin object for two different y-axis on the sample plot\n",
    "ax2=ax.twinx()\n",
    "# make a plot with different y-axis using second axis object\n",
    "ax2.plot(alpha, accuracy3_alpha_train ,color=\"blue\")\n",
    "ax2.plot(alpha, accuracy3_alpha_test, color = \"blue\", linestyle='dashed')\n",
    "ax2.set_ylabel(\"accuracy\",color=\"blue\",fontsize=14)\n",
    "plt.show()\n",
    "# save the plot as a file\n",
    "# #fig.savefig('two_different_y_axis_for_single_python_plot_with_twinx.jpg',\n",
    "#             format='jpeg',\n",
    "#             dpi=100,\n",
    "#             bbox_inches='tight')"
   ]
  },
  {
   "cell_type": "code",
   "execution_count": 14,
   "id": "ce2c1616",
   "metadata": {},
   "outputs": [
    {
     "data": {
      "text/plain": [
       "<torch.utils.data.dataloader.DataLoader at 0x7fec2a3fe890>"
      ]
     },
     "execution_count": 14,
     "metadata": {},
     "output_type": "execute_result"
    }
   ],
   "source": [
    "test"
   ]
  },
  {
   "cell_type": "code",
   "execution_count": null,
   "id": "99cd42f8",
   "metadata": {},
   "outputs": [],
   "source": []
  },
  {
   "cell_type": "code",
   "execution_count": null,
   "id": "9b11b31a",
   "metadata": {},
   "outputs": [],
   "source": []
  }
 ],
 "metadata": {
  "kernelspec": {
   "display_name": "Python 3 (ipykernel)",
   "language": "python",
   "name": "python3"
  },
  "language_info": {
   "codemirror_mode": {
    "name": "ipython",
    "version": 3
   },
   "file_extension": ".py",
   "mimetype": "text/x-python",
   "name": "python",
   "nbconvert_exporter": "python",
   "pygments_lexer": "ipython3",
   "version": "3.10.9"
  }
 },
 "nbformat": 4,
 "nbformat_minor": 5
}
